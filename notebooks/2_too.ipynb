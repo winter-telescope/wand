{
 "cells": [
  {
   "cell_type": "code",
   "execution_count": 1,
   "id": "f91a536f",
   "metadata": {},
   "outputs": [],
   "source": [
    "import logging\n",
    "from winterapi import WinterAPI\n",
    "from wintertoo.models import WinterFieldToO, WinterRaDecToO\n",
    "from wintertoo.fields import get_best_field"
   ]
  },
  {
   "cell_type": "code",
   "execution_count": 2,
   "id": "5e92d4e2",
   "metadata": {},
   "outputs": [],
   "source": [
    "logging.getLogger(\"winterapi\").setLevel(\"DEBUG\")"
   ]
  },
  {
   "cell_type": "code",
   "execution_count": 3,
   "id": "ba9823d9",
   "metadata": {},
   "outputs": [],
   "source": [
    "winter = WinterAPI()"
   ]
  },
  {
   "cell_type": "code",
   "execution_count": 4,
   "id": "c68cfda7",
   "metadata": {},
   "outputs": [],
   "source": [
    "# Program details\n",
    "program = \"2023A002\""
   ]
  },
  {
   "cell_type": "code",
   "execution_count": 5,
   "id": "513407c4",
   "metadata": {},
   "outputs": [],
   "source": [
    "# Target details\n",
    "ra_deg = 210.910674637\n",
    "dec_deg = 54.3116510708"
   ]
  },
  {
   "cell_type": "code",
   "execution_count": 6,
   "id": "9e41347c",
   "metadata": {},
   "outputs": [
    {
     "name": "stdout",
     "output_type": "stream",
     "text": [
      "Best field is:\n",
      "ID          3944.00000\n",
      "RA           211.56398\n",
      "Dec           54.00000\n",
      "Ebv            1.00000\n",
      "Gal_Long     100.91519\n",
      "Gal_Lat       59.81334\n",
      "Ecl_Long     175.49104\n",
      "Ecl_Lat       59.83739\n",
      "Entry       3943.00000\n",
      "Name: 3943, dtype: float64\n"
     ]
    }
   ],
   "source": [
    "winter_field = get_best_field(ra_deg, dec_deg)\n",
    "print(f\"Best field is:\\n{winter_field}\")"
   ]
  },
  {
   "cell_type": "code",
   "execution_count": 7,
   "id": "031d4780",
   "metadata": {},
   "outputs": [
    {
     "data": {
      "text/plain": [
       "WinterFieldToO(field_id=3944, filters=['J'], target_priority=50.0, t_exp=30.0, n_exp=1, n_dither=9, dither_distance=15.0, start_time_mjd=60104.05872084765, end_time_mjd=60105.04872084941, max_airmass=2.0)"
      ]
     },
     "execution_count": 7,
     "metadata": {},
     "output_type": "execute_result"
    }
   ],
   "source": [
    "too_j = WinterFieldToO(field_id=winter_field[\"ID\"], n_dither=9, filters=[\"J\"])\n",
    "too_j"
   ]
  },
  {
   "cell_type": "code",
   "execution_count": 8,
   "id": "0c5385d9",
   "metadata": {},
   "outputs": [
    {
     "data": {
      "text/plain": [
       "WinterFieldToO(field_id=3944, filters=['Hs'], target_priority=50.0, t_exp=30.0, n_exp=1, n_dither=15, dither_distance=15.0, start_time_mjd=60104.05872084765, end_time_mjd=60105.04872084941, max_airmass=2.0)"
      ]
     },
     "execution_count": 8,
     "metadata": {},
     "output_type": "execute_result"
    }
   ],
   "source": [
    "too_h = WinterFieldToO(field_id=winter_field[\"ID\"], n_dither=15, filters=[\"Hs\"])\n",
    "too_h"
   ]
  },
  {
   "cell_type": "code",
   "execution_count": 9,
   "id": "1aa5e6d5",
   "metadata": {},
   "outputs": [
    {
     "data": {
      "text/plain": [
       "WinterFieldToO(field_id=3944, filters=['Y'], target_priority=50.0, t_exp=20.0, n_exp=1, n_dither=9, dither_distance=15.0, start_time_mjd=60104.05872084765, end_time_mjd=60105.04872084941, max_airmass=2.0)"
      ]
     },
     "execution_count": 9,
     "metadata": {},
     "output_type": "execute_result"
    }
   ],
   "source": [
    "too_y = WinterFieldToO(field_id=winter_field[\"ID\"], n_dither=9, filters=[\"Y\"], t_exp=20.)\n",
    "too_y"
   ]
  },
  {
   "cell_type": "code",
   "execution_count": 10,
   "id": "b7be6f9f",
   "metadata": {},
   "outputs": [],
   "source": [
    "too_list = [too_y, too_j, too_h]"
   ]
  },
  {
   "cell_type": "code",
   "execution_count": 11,
   "id": "555800e8",
   "metadata": {},
   "outputs": [
    {
     "name": "stdout",
     "output_type": "stream",
     "text": [
      "Available programs: ['2023A002']\n"
     ]
    }
   ],
   "source": [
    "program_list = winter.get_programs()\n",
    "print(f\"Available programs: {program_list}\")\n",
    "assert program in program_list, f\"program {program} not found! Add this program first.\""
   ]
  },
  {
   "cell_type": "code",
   "execution_count": 12,
   "id": "ec20aa42",
   "metadata": {
    "scrolled": true
   },
   "outputs": [
    {
     "data": {
      "text/html": [
       "<div>\n",
       "<style scoped>\n",
       "    .dataframe tbody tr th:only-of-type {\n",
       "        vertical-align: middle;\n",
       "    }\n",
       "\n",
       "    .dataframe tbody tr th {\n",
       "        vertical-align: top;\n",
       "    }\n",
       "\n",
       "    .dataframe thead th {\n",
       "        text-align: right;\n",
       "    }\n",
       "</style>\n",
       "<table border=\"1\" class=\"dataframe\">\n",
       "  <thead>\n",
       "    <tr style=\"text-align: right;\">\n",
       "      <th></th>\n",
       "      <th>raDeg</th>\n",
       "      <th>decDeg</th>\n",
       "      <th>fieldID</th>\n",
       "      <th>filter</th>\n",
       "      <th>visitExpTime</th>\n",
       "      <th>priority</th>\n",
       "      <th>progPI</th>\n",
       "      <th>progName</th>\n",
       "      <th>progID</th>\n",
       "      <th>validStart</th>\n",
       "      <th>validStop</th>\n",
       "      <th>observed</th>\n",
       "      <th>maxAirmass</th>\n",
       "      <th>ditherNumber</th>\n",
       "      <th>ditherStepSize</th>\n",
       "      <th>obsHistID</th>\n",
       "    </tr>\n",
       "  </thead>\n",
       "  <tbody>\n",
       "    <tr>\n",
       "      <th>0</th>\n",
       "      <td>211.56398</td>\n",
       "      <td>54.0</td>\n",
       "      <td>3944</td>\n",
       "      <td>Y</td>\n",
       "      <td>20.0</td>\n",
       "      <td>50.0</td>\n",
       "      <td>Stein</td>\n",
       "      <td>2023A002</td>\n",
       "      <td>1</td>\n",
       "      <td>60104.058721</td>\n",
       "      <td>60105.048721</td>\n",
       "      <td>False</td>\n",
       "      <td>2.0</td>\n",
       "      <td>9</td>\n",
       "      <td>15.0</td>\n",
       "      <td>0</td>\n",
       "    </tr>\n",
       "    <tr>\n",
       "      <th>1</th>\n",
       "      <td>211.56398</td>\n",
       "      <td>54.0</td>\n",
       "      <td>3944</td>\n",
       "      <td>J</td>\n",
       "      <td>30.0</td>\n",
       "      <td>50.0</td>\n",
       "      <td>Stein</td>\n",
       "      <td>2023A002</td>\n",
       "      <td>1</td>\n",
       "      <td>60104.058721</td>\n",
       "      <td>60105.048721</td>\n",
       "      <td>False</td>\n",
       "      <td>2.0</td>\n",
       "      <td>9</td>\n",
       "      <td>15.0</td>\n",
       "      <td>1</td>\n",
       "    </tr>\n",
       "    <tr>\n",
       "      <th>2</th>\n",
       "      <td>211.56398</td>\n",
       "      <td>54.0</td>\n",
       "      <td>3944</td>\n",
       "      <td>Hs</td>\n",
       "      <td>30.0</td>\n",
       "      <td>50.0</td>\n",
       "      <td>Stein</td>\n",
       "      <td>2023A002</td>\n",
       "      <td>1</td>\n",
       "      <td>60104.058721</td>\n",
       "      <td>60105.048721</td>\n",
       "      <td>False</td>\n",
       "      <td>2.0</td>\n",
       "      <td>15</td>\n",
       "      <td>15.0</td>\n",
       "      <td>2</td>\n",
       "    </tr>\n",
       "  </tbody>\n",
       "</table>\n",
       "</div>"
      ],
      "text/plain": [
       "       raDeg  decDeg  fieldID filter  visitExpTime  priority progPI  progName  \\\n",
       "0  211.56398    54.0     3944      Y          20.0      50.0  Stein  2023A002   \n",
       "1  211.56398    54.0     3944      J          30.0      50.0  Stein  2023A002   \n",
       "2  211.56398    54.0     3944     Hs          30.0      50.0  Stein  2023A002   \n",
       "\n",
       "   progID    validStart     validStop  observed  maxAirmass  ditherNumber  \\\n",
       "0       1  60104.058721  60105.048721     False         2.0             9   \n",
       "1       1  60104.058721  60105.048721     False         2.0             9   \n",
       "2       1  60104.058721  60105.048721     False         2.0            15   \n",
       "\n",
       "   ditherStepSize  obsHistID  \n",
       "0            15.0          0  \n",
       "1            15.0          1  \n",
       "2            15.0          2  "
      ]
     },
     "execution_count": 12,
     "metadata": {},
     "output_type": "execute_result"
    }
   ],
   "source": [
    "local_schedule = winter.build_schedule_locally(\n",
    "    program_name=program,\n",
    "    data=too_list\n",
    ")\n",
    "local_schedule"
   ]
  },
  {
   "cell_type": "code",
   "execution_count": 13,
   "id": "2a6462c6",
   "metadata": {},
   "outputs": [
    {
     "data": {
      "text/plain": [
       "<Response [200]>"
      ]
     },
     "execution_count": 13,
     "metadata": {},
     "output_type": "execute_result"
    }
   ],
   "source": [
    "api_res, api_schedule = winter.submit_too(\n",
    "    program_name=program,\n",
    "    data=too_list,\n",
    "    submit_trigger=False\n",
    ")\n",
    "api_res"
   ]
  },
  {
   "cell_type": "code",
   "execution_count": 14,
   "id": "dfebd472",
   "metadata": {},
   "outputs": [
    {
     "data": {
      "text/html": [
       "<div>\n",
       "<style scoped>\n",
       "    .dataframe tbody tr th:only-of-type {\n",
       "        vertical-align: middle;\n",
       "    }\n",
       "\n",
       "    .dataframe tbody tr th {\n",
       "        vertical-align: top;\n",
       "    }\n",
       "\n",
       "    .dataframe thead th {\n",
       "        text-align: right;\n",
       "    }\n",
       "</style>\n",
       "<table border=\"1\" class=\"dataframe\">\n",
       "  <thead>\n",
       "    <tr style=\"text-align: right;\">\n",
       "      <th></th>\n",
       "      <th>raDeg</th>\n",
       "      <th>decDeg</th>\n",
       "      <th>fieldID</th>\n",
       "      <th>filter</th>\n",
       "      <th>visitExpTime</th>\n",
       "      <th>priority</th>\n",
       "      <th>progPI</th>\n",
       "      <th>progName</th>\n",
       "      <th>progID</th>\n",
       "      <th>validStart</th>\n",
       "      <th>validStop</th>\n",
       "      <th>observed</th>\n",
       "      <th>maxAirmass</th>\n",
       "      <th>ditherNumber</th>\n",
       "      <th>ditherStepSize</th>\n",
       "      <th>obsHistID</th>\n",
       "    </tr>\n",
       "  </thead>\n",
       "  <tbody>\n",
       "    <tr>\n",
       "      <th>0</th>\n",
       "      <td>211.56398</td>\n",
       "      <td>54.0</td>\n",
       "      <td>3944</td>\n",
       "      <td>Y</td>\n",
       "      <td>20.0</td>\n",
       "      <td>50.0</td>\n",
       "      <td>Stein</td>\n",
       "      <td>2023A002</td>\n",
       "      <td>1</td>\n",
       "      <td>60104.058721</td>\n",
       "      <td>60105.048721</td>\n",
       "      <td>False</td>\n",
       "      <td>2.0</td>\n",
       "      <td>9</td>\n",
       "      <td>15.0</td>\n",
       "      <td>0</td>\n",
       "    </tr>\n",
       "    <tr>\n",
       "      <th>1</th>\n",
       "      <td>211.56398</td>\n",
       "      <td>54.0</td>\n",
       "      <td>3944</td>\n",
       "      <td>J</td>\n",
       "      <td>30.0</td>\n",
       "      <td>50.0</td>\n",
       "      <td>Stein</td>\n",
       "      <td>2023A002</td>\n",
       "      <td>1</td>\n",
       "      <td>60104.058721</td>\n",
       "      <td>60105.048721</td>\n",
       "      <td>False</td>\n",
       "      <td>2.0</td>\n",
       "      <td>9</td>\n",
       "      <td>15.0</td>\n",
       "      <td>1</td>\n",
       "    </tr>\n",
       "    <tr>\n",
       "      <th>2</th>\n",
       "      <td>211.56398</td>\n",
       "      <td>54.0</td>\n",
       "      <td>3944</td>\n",
       "      <td>Hs</td>\n",
       "      <td>30.0</td>\n",
       "      <td>50.0</td>\n",
       "      <td>Stein</td>\n",
       "      <td>2023A002</td>\n",
       "      <td>1</td>\n",
       "      <td>60104.058721</td>\n",
       "      <td>60105.048721</td>\n",
       "      <td>False</td>\n",
       "      <td>2.0</td>\n",
       "      <td>15</td>\n",
       "      <td>15.0</td>\n",
       "      <td>2</td>\n",
       "    </tr>\n",
       "  </tbody>\n",
       "</table>\n",
       "</div>"
      ],
      "text/plain": [
       "       raDeg  decDeg  fieldID filter  visitExpTime  priority progPI  progName  \\\n",
       "0  211.56398    54.0     3944      Y          20.0      50.0  Stein  2023A002   \n",
       "1  211.56398    54.0     3944      J          30.0      50.0  Stein  2023A002   \n",
       "2  211.56398    54.0     3944     Hs          30.0      50.0  Stein  2023A002   \n",
       "\n",
       "   progID    validStart     validStop  observed  maxAirmass  ditherNumber  \\\n",
       "0       1  60104.058721  60105.048721     False         2.0             9   \n",
       "1       1  60104.058721  60105.048721     False         2.0             9   \n",
       "2       1  60104.058721  60105.048721     False         2.0            15   \n",
       "\n",
       "   ditherStepSize  obsHistID  \n",
       "0            15.0          0  \n",
       "1            15.0          1  \n",
       "2            15.0          2  "
      ]
     },
     "execution_count": 14,
     "metadata": {},
     "output_type": "execute_result"
    }
   ],
   "source": [
    "api_schedule"
   ]
  },
  {
   "cell_type": "code",
   "execution_count": null,
   "id": "03095da8",
   "metadata": {},
   "outputs": [],
   "source": []
  }
 ],
 "metadata": {
  "kernelspec": {
   "display_name": "wand",
   "language": "python",
   "name": "wand"
  },
  "language_info": {
   "codemirror_mode": {
    "name": "ipython",
    "version": 3
   },
   "file_extension": ".py",
   "mimetype": "text/x-python",
   "name": "python",
   "nbconvert_exporter": "python",
   "pygments_lexer": "ipython3",
   "version": "3.11.3"
  }
 },
 "nbformat": 4,
 "nbformat_minor": 5
}
