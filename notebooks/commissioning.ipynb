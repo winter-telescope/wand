{
 "cells": [
  {
   "cell_type": "code",
   "execution_count": 1,
   "id": "f91a536f",
   "metadata": {},
   "outputs": [],
   "source": [
    "import logging\n",
    "from winterapi import WinterAPI\n",
    "from wintertoo.models import WinterRaDecToO"
   ]
  },
  {
   "cell_type": "code",
   "execution_count": 2,
   "id": "5e92d4e2",
   "metadata": {},
   "outputs": [],
   "source": [
    "logging.getLogger(\"winterapi\").setLevel(\"DEBUG\")"
   ]
  },
  {
   "cell_type": "code",
   "execution_count": 3,
   "id": "ba9823d9",
   "metadata": {},
   "outputs": [],
   "source": [
    "winter = WinterAPI()"
   ]
  },
  {
   "cell_type": "code",
   "execution_count": 4,
   "id": "c68cfda7",
   "metadata": {},
   "outputs": [],
   "source": [
    "# Program details\n",
    "program = \"2023A005\""
   ]
  },
  {
   "cell_type": "code",
   "execution_count": 5,
   "id": "513407c4",
   "metadata": {},
   "outputs": [],
   "source": [
    "# Target details\n",
    "ra_deg = 186.4410788\n",
    "dec_deg = 12.6635813"
   ]
  },
  {
   "cell_type": "code",
   "execution_count": 6,
   "id": "031d4780",
   "metadata": {},
   "outputs": [
    {
     "name": "stdout",
     "output_type": "stream",
     "text": [
      "ra_deg=186.4410788 dec_deg=12.6635813 use_field_grid=True filters=['Y', 'J', 'Hs'] target_priority=50.0 t_exp=150.0 n_exp=1 n_dither=9 dither_distance=15.0 start_time_mjd=60109.37131138747 end_time_mjd=60110.36131138947 max_airmass=2.0\n"
     ]
    }
   ],
   "source": [
    "kwargs = {\n",
    "    \"ra_deg\": ra_deg,\n",
    "    \"dec_deg\": dec_deg,\n",
    "#     \"filters\": [\"J\"],\n",
    "    \"use_field_grid\": True, # By default, a RaDecToo will use the nearest field \n",
    "#     \"target_priority\": 200.0\n",
    "}\n",
    "\n",
    "too_list = [\n",
    "    WinterRaDecToO(n_dither=9, t_exp=150, **kwargs),\n",
    "#     WinterRaDecToO(n_dither=5, t_exp=150, **kwargs),\n",
    "#     WinterRaDecToO(n_dither=9, t_exp=45, **kwargs)\n",
    "]\n",
    "\n",
    "for x in too_list:\n",
    "    print(x)"
   ]
  },
  {
   "cell_type": "code",
   "execution_count": 7,
   "id": "555800e8",
   "metadata": {},
   "outputs": [
    {
     "name": "stdout",
     "output_type": "stream",
     "text": [
      "Available programs: ['2023A002', '2023A999', '2023A005']\n"
     ]
    }
   ],
   "source": [
    "program_list = winter.get_programs()\n",
    "print(f\"Available programs: {program_list}\")\n",
    "assert program in program_list, f\"program {program} not found! Add this program first.\""
   ]
  },
  {
   "cell_type": "code",
   "execution_count": 8,
   "id": "ec20aa42",
   "metadata": {
    "scrolled": true
   },
   "outputs": [
    {
     "data": {
      "text/html": [
       "<div>\n",
       "<style scoped>\n",
       "    .dataframe tbody tr th:only-of-type {\n",
       "        vertical-align: middle;\n",
       "    }\n",
       "\n",
       "    .dataframe tbody tr th {\n",
       "        vertical-align: top;\n",
       "    }\n",
       "\n",
       "    .dataframe thead th {\n",
       "        text-align: right;\n",
       "    }\n",
       "</style>\n",
       "<table border=\"1\" class=\"dataframe\">\n",
       "  <thead>\n",
       "    <tr style=\"text-align: right;\">\n",
       "      <th></th>\n",
       "      <th>raDeg</th>\n",
       "      <th>decDeg</th>\n",
       "      <th>fieldID</th>\n",
       "      <th>filter</th>\n",
       "      <th>visitExpTime</th>\n",
       "      <th>priority</th>\n",
       "      <th>progPI</th>\n",
       "      <th>progName</th>\n",
       "      <th>progID</th>\n",
       "      <th>validStart</th>\n",
       "      <th>validStop</th>\n",
       "      <th>observed</th>\n",
       "      <th>maxAirmass</th>\n",
       "      <th>ditherNumber</th>\n",
       "      <th>ditherStepSize</th>\n",
       "      <th>obsHistID</th>\n",
       "    </tr>\n",
       "  </thead>\n",
       "  <tbody>\n",
       "    <tr>\n",
       "      <th>0</th>\n",
       "      <td>186.17143</td>\n",
       "      <td>13.0</td>\n",
       "      <td>15956</td>\n",
       "      <td>Y</td>\n",
       "      <td>150.0</td>\n",
       "      <td>50.0</td>\n",
       "      <td>Frostig</td>\n",
       "      <td>2023A005</td>\n",
       "      <td>1</td>\n",
       "      <td>60109.371311</td>\n",
       "      <td>60110.361311</td>\n",
       "      <td>False</td>\n",
       "      <td>2.0</td>\n",
       "      <td>9</td>\n",
       "      <td>15.0</td>\n",
       "      <td>0</td>\n",
       "    </tr>\n",
       "    <tr>\n",
       "      <th>1</th>\n",
       "      <td>186.17143</td>\n",
       "      <td>13.0</td>\n",
       "      <td>15956</td>\n",
       "      <td>J</td>\n",
       "      <td>150.0</td>\n",
       "      <td>50.0</td>\n",
       "      <td>Frostig</td>\n",
       "      <td>2023A005</td>\n",
       "      <td>1</td>\n",
       "      <td>60109.371311</td>\n",
       "      <td>60110.361311</td>\n",
       "      <td>False</td>\n",
       "      <td>2.0</td>\n",
       "      <td>9</td>\n",
       "      <td>15.0</td>\n",
       "      <td>1</td>\n",
       "    </tr>\n",
       "    <tr>\n",
       "      <th>2</th>\n",
       "      <td>186.17143</td>\n",
       "      <td>13.0</td>\n",
       "      <td>15956</td>\n",
       "      <td>Hs</td>\n",
       "      <td>150.0</td>\n",
       "      <td>50.0</td>\n",
       "      <td>Frostig</td>\n",
       "      <td>2023A005</td>\n",
       "      <td>1</td>\n",
       "      <td>60109.371311</td>\n",
       "      <td>60110.361311</td>\n",
       "      <td>False</td>\n",
       "      <td>2.0</td>\n",
       "      <td>9</td>\n",
       "      <td>15.0</td>\n",
       "      <td>2</td>\n",
       "    </tr>\n",
       "  </tbody>\n",
       "</table>\n",
       "</div>"
      ],
      "text/plain": [
       "       raDeg  decDeg  fieldID filter  visitExpTime  priority   progPI  \\\n",
       "0  186.17143    13.0    15956      Y         150.0      50.0  Frostig   \n",
       "1  186.17143    13.0    15956      J         150.0      50.0  Frostig   \n",
       "2  186.17143    13.0    15956     Hs         150.0      50.0  Frostig   \n",
       "\n",
       "   progName  progID    validStart     validStop  observed  maxAirmass  \\\n",
       "0  2023A005       1  60109.371311  60110.361311     False         2.0   \n",
       "1  2023A005       1  60109.371311  60110.361311     False         2.0   \n",
       "2  2023A005       1  60109.371311  60110.361311     False         2.0   \n",
       "\n",
       "   ditherNumber  ditherStepSize  obsHistID  \n",
       "0             9            15.0          0  \n",
       "1             9            15.0          1  \n",
       "2             9            15.0          2  "
      ]
     },
     "execution_count": 8,
     "metadata": {},
     "output_type": "execute_result"
    }
   ],
   "source": [
    "local_schedule = winter.build_schedule_locally(\n",
    "    program_name=program,\n",
    "    data=too_list\n",
    ")\n",
    "local_schedule"
   ]
  },
  {
   "cell_type": "code",
   "execution_count": 11,
   "id": "2a6462c6",
   "metadata": {},
   "outputs": [
    {
     "data": {
      "text/plain": [
       "<Response [200]>"
      ]
     },
     "execution_count": 11,
     "metadata": {},
     "output_type": "execute_result"
    }
   ],
   "source": [
    "api_res, api_schedule = winter.submit_too(\n",
    "    program_name=program,\n",
    "    data=too_list,\n",
    "    submit_trigger=True\n",
    ")\n",
    "api_res"
   ]
  },
  {
   "cell_type": "code",
   "execution_count": 12,
   "id": "dfebd472",
   "metadata": {},
   "outputs": [
    {
     "data": {
      "text/html": [
       "<div>\n",
       "<style scoped>\n",
       "    .dataframe tbody tr th:only-of-type {\n",
       "        vertical-align: middle;\n",
       "    }\n",
       "\n",
       "    .dataframe tbody tr th {\n",
       "        vertical-align: top;\n",
       "    }\n",
       "\n",
       "    .dataframe thead th {\n",
       "        text-align: right;\n",
       "    }\n",
       "</style>\n",
       "<table border=\"1\" class=\"dataframe\">\n",
       "  <thead>\n",
       "    <tr style=\"text-align: right;\">\n",
       "      <th></th>\n",
       "      <th>raDeg</th>\n",
       "      <th>decDeg</th>\n",
       "      <th>fieldID</th>\n",
       "      <th>filter</th>\n",
       "      <th>visitExpTime</th>\n",
       "      <th>priority</th>\n",
       "      <th>progPI</th>\n",
       "      <th>progName</th>\n",
       "      <th>progID</th>\n",
       "      <th>validStart</th>\n",
       "      <th>validStop</th>\n",
       "      <th>observed</th>\n",
       "      <th>maxAirmass</th>\n",
       "      <th>ditherNumber</th>\n",
       "      <th>ditherStepSize</th>\n",
       "      <th>obsHistID</th>\n",
       "    </tr>\n",
       "  </thead>\n",
       "  <tbody>\n",
       "    <tr>\n",
       "      <th>0</th>\n",
       "      <td>186.17143</td>\n",
       "      <td>13.0</td>\n",
       "      <td>15956</td>\n",
       "      <td>Y</td>\n",
       "      <td>150.0</td>\n",
       "      <td>50.0</td>\n",
       "      <td>Frostig</td>\n",
       "      <td>2023A005</td>\n",
       "      <td>1</td>\n",
       "      <td>60109.371311</td>\n",
       "      <td>60110.361311</td>\n",
       "      <td>False</td>\n",
       "      <td>2.0</td>\n",
       "      <td>9</td>\n",
       "      <td>15.0</td>\n",
       "      <td>0</td>\n",
       "    </tr>\n",
       "    <tr>\n",
       "      <th>1</th>\n",
       "      <td>186.17143</td>\n",
       "      <td>13.0</td>\n",
       "      <td>15956</td>\n",
       "      <td>J</td>\n",
       "      <td>150.0</td>\n",
       "      <td>50.0</td>\n",
       "      <td>Frostig</td>\n",
       "      <td>2023A005</td>\n",
       "      <td>1</td>\n",
       "      <td>60109.371311</td>\n",
       "      <td>60110.361311</td>\n",
       "      <td>False</td>\n",
       "      <td>2.0</td>\n",
       "      <td>9</td>\n",
       "      <td>15.0</td>\n",
       "      <td>1</td>\n",
       "    </tr>\n",
       "    <tr>\n",
       "      <th>2</th>\n",
       "      <td>186.17143</td>\n",
       "      <td>13.0</td>\n",
       "      <td>15956</td>\n",
       "      <td>Hs</td>\n",
       "      <td>150.0</td>\n",
       "      <td>50.0</td>\n",
       "      <td>Frostig</td>\n",
       "      <td>2023A005</td>\n",
       "      <td>1</td>\n",
       "      <td>60109.371311</td>\n",
       "      <td>60110.361311</td>\n",
       "      <td>False</td>\n",
       "      <td>2.0</td>\n",
       "      <td>9</td>\n",
       "      <td>15.0</td>\n",
       "      <td>2</td>\n",
       "    </tr>\n",
       "  </tbody>\n",
       "</table>\n",
       "</div>"
      ],
      "text/plain": [
       "       raDeg  decDeg  fieldID filter  visitExpTime  priority   progPI  \\\n",
       "0  186.17143    13.0    15956      Y         150.0      50.0  Frostig   \n",
       "1  186.17143    13.0    15956      J         150.0      50.0  Frostig   \n",
       "2  186.17143    13.0    15956     Hs         150.0      50.0  Frostig   \n",
       "\n",
       "   progName  progID    validStart     validStop  observed  maxAirmass  \\\n",
       "0  2023A005       1  60109.371311  60110.361311     False         2.0   \n",
       "1  2023A005       1  60109.371311  60110.361311     False         2.0   \n",
       "2  2023A005       1  60109.371311  60110.361311     False         2.0   \n",
       "\n",
       "   ditherNumber  ditherStepSize  obsHistID  \n",
       "0             9            15.0          0  \n",
       "1             9            15.0          1  \n",
       "2             9            15.0          2  "
      ]
     },
     "execution_count": 12,
     "metadata": {},
     "output_type": "execute_result"
    }
   ],
   "source": [
    "api_schedule"
   ]
  },
  {
   "cell_type": "code",
   "execution_count": null,
   "id": "03095da8",
   "metadata": {},
   "outputs": [],
   "source": []
  }
 ],
 "metadata": {
  "kernelspec": {
   "display_name": "wand",
   "language": "python",
   "name": "wand"
  },
  "language_info": {
   "codemirror_mode": {
    "name": "ipython",
    "version": 3
   },
   "file_extension": ".py",
   "mimetype": "text/x-python",
   "name": "python",
   "nbconvert_exporter": "python",
   "pygments_lexer": "ipython3",
   "version": "3.11.3"
  }
 },
 "nbformat": 4,
 "nbformat_minor": 5
}
